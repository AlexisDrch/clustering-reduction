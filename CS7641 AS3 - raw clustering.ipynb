{
 "cells": [
  {
   "cell_type": "code",
   "execution_count": 56,
   "metadata": {
    "collapsed": true
   },
   "outputs": [],
   "source": [
    "import pandas as pd\n",
    "import numpy as np\n",
    "import matplotlib.pyplot as plt\n",
    "from sklearn.cluster import KMeans\n",
    "from sklearn.preprocessing import MinMaxScaler"
   ]
  },
  {
   "cell_type": "markdown",
   "metadata": {},
   "source": [
    "a discussion of your datasets, and why they're interesting: If you're using the same datasets as before at least briefly remind us of what they are so we don't have to revisit your old assignment write-up.\n",
    "explanations of your methods: How did you choose k?\n",
    "a description of the kind of clusters that you got.\n",
    "analyses of your results. Why did you get the clusters you did? Do they make \"sense\"? If you used data that already had labels (for example data from a classification problem from assignment #1) did the clusters line up with the labels? Do they otherwise line up naturally? Why or why not? Compare and contrast the different algorithms. What sort of changes might you make to each of those algorithms to improve performance? How much performance was due to the problems you chose? Be creative and think of as many questions you can, and as many answers as you can. Take care to justify your analysis with data explictly."
   ]
  },
  {
   "cell_type": "code",
   "execution_count": 205,
   "metadata": {
    "collapsed": true
   },
   "outputs": [],
   "source": [
    "def compute_inertia(df, range_k):\n",
    "    inertias = []\n",
    "    for k in range_k:\n",
    "        kmeans = KMeans(n_clusters=k).fit(df)\n",
    "        inertia = kmeans.inertia_\n",
    "        inertias.append(inertia)\n",
    "    return inertias"
   ]
  },
  {
   "cell_type": "code",
   "execution_count": 206,
   "metadata": {
    "collapsed": true
   },
   "outputs": [],
   "source": [
    "scaler = MinMaxScaler((0,1))"
   ]
  },
  {
   "cell_type": "code",
   "execution_count": 207,
   "metadata": {
    "collapsed": false
   },
   "outputs": [
    {
     "data": {
      "text/html": [
       "<div>\n",
       "<table border=\"1\" class=\"dataframe\">\n",
       "  <thead>\n",
       "    <tr style=\"text-align: right;\">\n",
       "      <th></th>\n",
       "      <th>fixed acidity</th>\n",
       "      <th>volatile acidity</th>\n",
       "      <th>citric acid</th>\n",
       "      <th>residual sugar</th>\n",
       "      <th>chlorides</th>\n",
       "      <th>free sulfur dioxide</th>\n",
       "      <th>total sulfur dioxide</th>\n",
       "      <th>density</th>\n",
       "      <th>pH</th>\n",
       "      <th>sulphates</th>\n",
       "      <th>alcohol</th>\n",
       "      <th>quality</th>\n",
       "    </tr>\n",
       "  </thead>\n",
       "  <tbody>\n",
       "    <tr>\n",
       "      <th>0</th>\n",
       "      <td>0.265487</td>\n",
       "      <td>0.253425</td>\n",
       "      <td>0.26</td>\n",
       "      <td>0.047945</td>\n",
       "      <td>0.373957</td>\n",
       "      <td>0.126761</td>\n",
       "      <td>0.289753</td>\n",
       "      <td>0.494126</td>\n",
       "      <td>0.291339</td>\n",
       "      <td>0.281437</td>\n",
       "      <td>0.138462</td>\n",
       "      <td>2</td>\n",
       "    </tr>\n",
       "    <tr>\n",
       "      <th>1</th>\n",
       "      <td>0.973451</td>\n",
       "      <td>0.359589</td>\n",
       "      <td>0.49</td>\n",
       "      <td>0.226027</td>\n",
       "      <td>0.138564</td>\n",
       "      <td>0.126761</td>\n",
       "      <td>0.060071</td>\n",
       "      <td>0.960352</td>\n",
       "      <td>0.141732</td>\n",
       "      <td>0.245509</td>\n",
       "      <td>0.415385</td>\n",
       "      <td>2</td>\n",
       "    </tr>\n",
       "    <tr>\n",
       "      <th>2</th>\n",
       "      <td>0.176991</td>\n",
       "      <td>0.465753</td>\n",
       "      <td>0.03</td>\n",
       "      <td>0.472603</td>\n",
       "      <td>0.111853</td>\n",
       "      <td>0.070423</td>\n",
       "      <td>0.021201</td>\n",
       "      <td>0.457416</td>\n",
       "      <td>0.614173</td>\n",
       "      <td>0.101796</td>\n",
       "      <td>0.584615</td>\n",
       "      <td>2</td>\n",
       "    </tr>\n",
       "    <tr>\n",
       "      <th>3</th>\n",
       "      <td>0.504425</td>\n",
       "      <td>0.136986</td>\n",
       "      <td>0.45</td>\n",
       "      <td>0.376712</td>\n",
       "      <td>0.101836</td>\n",
       "      <td>0.056338</td>\n",
       "      <td>0.024735</td>\n",
       "      <td>0.552863</td>\n",
       "      <td>0.385827</td>\n",
       "      <td>0.293413</td>\n",
       "      <td>0.646154</td>\n",
       "      <td>5</td>\n",
       "    </tr>\n",
       "    <tr>\n",
       "      <th>4</th>\n",
       "      <td>0.238938</td>\n",
       "      <td>0.167808</td>\n",
       "      <td>0.49</td>\n",
       "      <td>0.109589</td>\n",
       "      <td>0.126878</td>\n",
       "      <td>0.535211</td>\n",
       "      <td>0.353357</td>\n",
       "      <td>0.479442</td>\n",
       "      <td>0.488189</td>\n",
       "      <td>0.269461</td>\n",
       "      <td>0.400000</td>\n",
       "      <td>2</td>\n",
       "    </tr>\n",
       "  </tbody>\n",
       "</table>\n",
       "</div>"
      ],
      "text/plain": [
       "   fixed acidity  volatile acidity  citric acid  residual sugar  chlorides  \\\n",
       "0       0.265487          0.253425         0.26        0.047945   0.373957   \n",
       "1       0.973451          0.359589         0.49        0.226027   0.138564   \n",
       "2       0.176991          0.465753         0.03        0.472603   0.111853   \n",
       "3       0.504425          0.136986         0.45        0.376712   0.101836   \n",
       "4       0.238938          0.167808         0.49        0.109589   0.126878   \n",
       "\n",
       "   free sulfur dioxide  total sulfur dioxide   density        pH  sulphates  \\\n",
       "0             0.126761              0.289753  0.494126  0.291339   0.281437   \n",
       "1             0.126761              0.060071  0.960352  0.141732   0.245509   \n",
       "2             0.070423              0.021201  0.457416  0.614173   0.101796   \n",
       "3             0.056338              0.024735  0.552863  0.385827   0.293413   \n",
       "4             0.535211              0.353357  0.479442  0.488189   0.269461   \n",
       "\n",
       "    alcohol  quality  \n",
       "0  0.138462        2  \n",
       "1  0.415385        2  \n",
       "2  0.584615        2  \n",
       "3  0.646154        5  \n",
       "4  0.400000        2  "
      ]
     },
     "execution_count": 207,
     "metadata": {},
     "output_type": "execute_result"
    }
   ],
   "source": [
    "# pre-processing\n",
    "pima = pd.read_csv('./data/Pima.csv').sample(frac = 1) # shuffle pima\n",
    "assert pima.isnull().sum().sum() == 0\n",
    "pima_X, pima_Y = pima.iloc[:,0:-1], pima.iloc[:, -1]\n",
    "pima_Y = pd.Series([1 if label == 2 else 0 for label in pima_Y], name = pima_Y.name) # 0 and 1\n",
    "pima_X_nor = pd.DataFrame(scaler.fit_transform(pima_X), columns=pima_X.columns)\n",
    "df_pima = pd.concat([pima_X_nor, pima_Y], axis = 1)\n",
    "m_pima, n_pima = pima_X_nor.shape\n",
    "\n",
    "wine_quality = pd.read_csv('./data/winequality-red.csv',sep =\";\").sample(frac = 1) # shuffle wine\n",
    "assert wine_quality.isnull().sum().sum() == 0\n",
    "wine_quality_X, wine_quality_Y = wine_quality.iloc[:, 0:-1], wine_quality.iloc[:, -1]\n",
    "\n",
    "wine_quality_Y = pd.Series([label - 3 for label in wine_quality_Y], name = wine_quality_Y.name) # range 0 to 6\n",
    "wine_quality_X_norm= pd.DataFrame(scaler.fit_transform(wine_quality_X),\n",
    "                                  columns= wine_quality_X.columns)\n",
    "df_wine = pd.concat((wine_quality_X_norm, wine_quality_Y), axis =1)\n",
    "m_wine, n_wine = wine_quality_X_norm.shape\n",
    "df_wine.head(n=5)"
   ]
  },
  {
   "cell_type": "markdown",
   "metadata": {},
   "source": [
    "### 1. Clustering on raw data "
   ]
  },
  {
   "cell_type": "markdown",
   "metadata": {},
   "source": [
    "#### a. Kmeans\n",
    "\n",
    "<u> Pima </u>"
   ]
  },
  {
   "cell_type": "code",
   "execution_count": 243,
   "metadata": {
    "collapsed": false
   },
   "outputs": [
    {
     "data": {
      "text/html": [
       "<div>\n",
       "<table border=\"1\" class=\"dataframe\">\n",
       "  <thead>\n",
       "    <tr style=\"text-align: right;\">\n",
       "      <th></th>\n",
       "      <th>npreg</th>\n",
       "      <th>glu</th>\n",
       "      <th>bp</th>\n",
       "      <th>skin</th>\n",
       "      <th>bmi</th>\n",
       "      <th>ped</th>\n",
       "      <th>age</th>\n",
       "    </tr>\n",
       "  </thead>\n",
       "  <tbody>\n",
       "    <tr>\n",
       "      <th>0</th>\n",
       "      <td>0.350851</td>\n",
       "      <td>0.626140</td>\n",
       "      <td>0.631685</td>\n",
       "      <td>0.283823</td>\n",
       "      <td>0.353378</td>\n",
       "      <td>0.207959</td>\n",
       "      <td>0.332403</td>\n",
       "    </tr>\n",
       "    <tr>\n",
       "      <th>1</th>\n",
       "      <td>0.122212</td>\n",
       "      <td>0.353971</td>\n",
       "      <td>0.505762</td>\n",
       "      <td>0.215996</td>\n",
       "      <td>0.269267</td>\n",
       "      <td>0.161971</td>\n",
       "      <td>0.085473</td>\n",
       "    </tr>\n",
       "  </tbody>\n",
       "</table>\n",
       "</div>"
      ],
      "text/plain": [
       "      npreg       glu        bp      skin       bmi       ped       age\n",
       "0  0.350851  0.626140  0.631685  0.283823  0.353378  0.207959  0.332403\n",
       "1  0.122212  0.353971  0.505762  0.215996  0.269267  0.161971  0.085473"
      ]
     },
     "execution_count": 243,
     "metadata": {},
     "output_type": "execute_result"
    }
   ],
   "source": [
    "n_clst_pima = 2\n",
    "kmeans_pima = KMeans(n_clusters=n_clst_pima, init='k-means++', n_init=10, max_iter=300, tol=0.0001,\n",
    "               precompute_distances='auto', verbose=0, random_state=None, copy_x=True,\n",
    "               n_jobs=1, algorithm='auto')\n",
    "\n",
    "kmeans_pima = kmeans_pima.fit(pima_X_nor)\n",
    "\n",
    "# centroids - consistancy\n",
    "centroids_pima = kmeans_pima.cluster_centers_\n",
    "df_centroids_pima = pd.DataFrame(centroids_pima, index = np.arange(0, n_clst_pima),\n",
    "                                 columns=pima_X_nor.columns)\n",
    "df_centroids_pima.head()"
   ]
  },
  {
   "cell_type": "code",
   "execution_count": 244,
   "metadata": {
    "collapsed": false
   },
   "outputs": [
    {
     "name": "stdout",
     "output_type": "stream",
     "text": [
      "Kmeans accuracy with k = 2 is 0.7706766917293233\n"
     ]
    }
   ],
   "source": [
    "# labels - score - assuming the labels correspond to pima class\n",
    "labels_pima = kmeans_pima.labels_\n",
    "score_pima = len(np.where(labels_pima != pima_Y)[0])/m_pima\n",
    "print('Kmeans accuracy with k = ' + str(n_clst_pima) + ' is ' + str(score_pima))"
   ]
  },
  {
   "cell_type": "code",
   "execution_count": 257,
   "metadata": {
    "collapsed": false
   },
   "outputs": [
    {
     "data": {
      "image/png": "[encoded data removed]",
      "text/plain": [
       "<matplotlib.figure.Figure at 0x1267d70b8>"
      ]
     },
     "metadata": {},
     "output_type": "display_data"
    }
   ],
   "source": [
    "# inertia\n",
    "range_k_pima = [1, 2, 3, 4, 5, 6]\n",
    "inertias = compute_inertia(pima_X_nor, range_k_pima)\n",
    "inertias_pima = pd.Series(data = inertias, index = range_k_pima, name= 'inertias pima' )\n",
    "inertias_pima.plot()\n",
    "plt.legend()\n",
    "plt.xlabel('k clusters')\n",
    "plt.ylabel(inertias_pima.name)\n",
    "plt.vlines(2, plt.ylim()[0], plt.ylim()[1])\n",
    "plt.show()"
   ]
  },
  {
   "cell_type": "markdown",
   "metadata": {},
   "source": [
    "<u> Wine quality </u>"
   ]
  },
  {
   "cell_type": "code",
   "execution_count": 241,
   "metadata": {
    "collapsed": false
   },
   "outputs": [
    {
     "data": {
      "text/plain": [
       "array([2, 5, 3, 4, 1, 0])"
      ]
     },
     "execution_count": 241,
     "metadata": {},
     "output_type": "execute_result"
    }
   ],
   "source": [
    "n_clst_wine = 6\n",
    "wine_quality_Y.unique()"
   ]
  },
  {
   "cell_type": "code",
   "execution_count": 246,
   "metadata": {
    "collapsed": false
   },
   "outputs": [
    {
     "data": {
      "text/html": [
       "<div>\n",
       "<table border=\"1\" class=\"dataframe\">\n",
       "  <thead>\n",
       "    <tr style=\"text-align: right;\">\n",
       "      <th></th>\n",
       "      <th>fixed acidity</th>\n",
       "      <th>volatile acidity</th>\n",
       "      <th>citric acid</th>\n",
       "      <th>residual sugar</th>\n",
       "      <th>chlorides</th>\n",
       "      <th>free sulfur dioxide</th>\n",
       "      <th>total sulfur dioxide</th>\n",
       "      <th>density</th>\n",
       "      <th>pH</th>\n",
       "      <th>sulphates</th>\n",
       "      <th>alcohol</th>\n",
       "    </tr>\n",
       "  </thead>\n",
       "  <tbody>\n",
       "    <tr>\n",
       "      <th>0</th>\n",
       "      <td>0.317391</td>\n",
       "      <td>0.280478</td>\n",
       "      <td>0.302414</td>\n",
       "      <td>0.149590</td>\n",
       "      <td>0.127203</td>\n",
       "      <td>0.381761</td>\n",
       "      <td>0.296975</td>\n",
       "      <td>0.540009</td>\n",
       "      <td>0.435120</td>\n",
       "      <td>0.178421</td>\n",
       "      <td>0.213439</td>\n",
       "    </tr>\n",
       "    <tr>\n",
       "      <th>1</th>\n",
       "      <td>0.572541</td>\n",
       "      <td>0.202790</td>\n",
       "      <td>0.509542</td>\n",
       "      <td>0.134743</td>\n",
       "      <td>0.129259</td>\n",
       "      <td>0.134547</td>\n",
       "      <td>0.089708</td>\n",
       "      <td>0.642608</td>\n",
       "      <td>0.338167</td>\n",
       "      <td>0.230075</td>\n",
       "      <td>0.310762</td>\n",
       "    </tr>\n",
       "    <tr>\n",
       "      <th>2</th>\n",
       "      <td>0.160556</td>\n",
       "      <td>0.335704</td>\n",
       "      <td>0.086837</td>\n",
       "      <td>0.092361</td>\n",
       "      <td>0.093702</td>\n",
       "      <td>0.255964</td>\n",
       "      <td>0.131589</td>\n",
       "      <td>0.307508</td>\n",
       "      <td>0.593805</td>\n",
       "      <td>0.181382</td>\n",
       "      <td>0.510034</td>\n",
       "    </tr>\n",
       "    <tr>\n",
       "      <th>3</th>\n",
       "      <td>0.264755</td>\n",
       "      <td>0.352830</td>\n",
       "      <td>0.118102</td>\n",
       "      <td>0.091751</td>\n",
       "      <td>0.122965</td>\n",
       "      <td>0.147318</td>\n",
       "      <td>0.105031</td>\n",
       "      <td>0.490579</td>\n",
       "      <td>0.485614</td>\n",
       "      <td>0.159223</td>\n",
       "      <td>0.223347</td>\n",
       "    </tr>\n",
       "    <tr>\n",
       "      <th>4</th>\n",
       "      <td>0.336947</td>\n",
       "      <td>0.158719</td>\n",
       "      <td>0.409667</td>\n",
       "      <td>0.102283</td>\n",
       "      <td>0.104090</td>\n",
       "      <td>0.168192</td>\n",
       "      <td>0.086116</td>\n",
       "      <td>0.389412</td>\n",
       "      <td>0.429364</td>\n",
       "      <td>0.228468</td>\n",
       "      <td>0.492372</td>\n",
       "    </tr>\n",
       "  </tbody>\n",
       "</table>\n",
       "</div>"
      ],
      "text/plain": [
       "   fixed acidity  volatile acidity  citric acid  residual sugar  chlorides  \\\n",
       "0       0.317391          0.280478     0.302414        0.149590   0.127203   \n",
       "1       0.572541          0.202790     0.509542        0.134743   0.129259   \n",
       "2       0.160556          0.335704     0.086837        0.092361   0.093702   \n",
       "3       0.264755          0.352830     0.118102        0.091751   0.122965   \n",
       "4       0.336947          0.158719     0.409667        0.102283   0.104090   \n",
       "\n",
       "   free sulfur dioxide  total sulfur dioxide   density        pH  sulphates  \\\n",
       "0             0.381761              0.296975  0.540009  0.435120   0.178421   \n",
       "1             0.134547              0.089708  0.642608  0.338167   0.230075   \n",
       "2             0.255964              0.131589  0.307508  0.593805   0.181382   \n",
       "3             0.147318              0.105031  0.490579  0.485614   0.159223   \n",
       "4             0.168192              0.086116  0.389412  0.429364   0.228468   \n",
       "\n",
       "    alcohol  \n",
       "0  0.213439  \n",
       "1  0.310762  \n",
       "2  0.510034  \n",
       "3  0.223347  \n",
       "4  0.492372  "
      ]
     },
     "execution_count": 246,
     "metadata": {},
     "output_type": "execute_result"
    }
   ],
   "source": [
    "# centroids - consistancy\n",
    "kmeans_wine = KMeans(n_clst_wine)\n",
    "kmeans_wine = kmeans.fit(wine_quality_X_norm)\n",
    "ctrids_pima = pd.DataFrame(kmeans_wine.cluster_centers_, index = np.arange(0, n_clst_wine),\n",
    "                          columns = wine_quality_X_norm.columns)\n",
    "ctrids_pima.head()"
   ]
  },
  {
   "cell_type": "code",
   "execution_count": 261,
   "metadata": {
    "collapsed": false
   },
   "outputs": [
    {
     "name": "stdout",
     "output_type": "stream",
     "text": [
      "0.19262038774233897\n"
     ]
    }
   ],
   "source": [
    "# labels - score - multiclass\n",
    "# no point on how to match quality label and cluter label : wrong score\n",
    "print( len(np.where(kmeans_wine.labels_ == df_wine.quality)[0])/m_wine)"
   ]
  },
  {
   "cell_type": "code",
   "execution_count": 255,
   "metadata": {
    "collapsed": false
   },
   "outputs": [
    {
     "data": {
      "image/png": "[encoded data removed]",
      "text/plain": [
       "<matplotlib.figure.Figure at 0x126ffb908>"
      ]
     },
     "metadata": {},
     "output_type": "display_data"
    }
   ],
   "source": [
    "# inertias \n",
    "range_k_wine = [2, 3, 4, 5, 6, 7, 8]\n",
    "inertias = compute_inertia(wine_quality_X_norm, range_k_wine)\n",
    "inertias_wine = pd.Series(inertias, index = range_k_wine, name ='inertias wine')\n",
    "inertias_wine.plot(legend=True)\n",
    "plt.xlabel('k clusters')\n",
    "plt.ylabel(inertias_wine.name)\n",
    "plt.show()"
   ]
  }
 ],
 "metadata": {
  "kernelspec": {
   "display_name": "Python 3",
   "language": "python",
   "name": "python3"
  },
  "language_info": {
   "codemirror_mode": {
    "name": "ipython",
    "version": 3
   },
   "file_extension": ".py",
   "mimetype": "text/x-python",
   "name": "python",
   "nbconvert_exporter": "python",
   "pygments_lexer": "ipython3",
   "version": "3.6.0"
  }
 },
 "nbformat": 4,
 "nbformat_minor": 2
}
